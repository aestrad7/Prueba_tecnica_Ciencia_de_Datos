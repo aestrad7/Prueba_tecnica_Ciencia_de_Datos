{
 "cells": [
  {
   "cell_type": "code",
   "execution_count": 1,
   "metadata": {},
   "outputs": [],
   "source": [
    "import pandas as pd\n",
    "import joblib\n",
    "\n",
    "from diabetes_data_processor import DiabetesDataProcessor\n",
    "from diabetesInference import DiabetesInference"
   ]
  },
  {
   "cell_type": "code",
   "execution_count": 2,
   "metadata": {},
   "outputs": [],
   "source": [
    "# Carga el modelo XGBoost desde un archivo .pkl  data \n",
    "sample_data = pd.read_csv(\"test.csv\")\n",
    "xgboost_model = joblib.load(\"best_xgboost_model.pkl\")"
   ]
  },
  {
   "cell_type": "code",
   "execution_count": 4,
   "metadata": {},
   "outputs": [
    {
     "ename": "TypeError",
     "evalue": "predict() takes 1 positional argument but 2 were given",
     "output_type": "error",
     "traceback": [
      "\u001b[0;31m---------------------------------------------------------------------------\u001b[0m",
      "\u001b[0;31mTypeError\u001b[0m                                 Traceback (most recent call last)",
      "\u001b[1;32m/Users/anestrada/Documents/Estudio/Prueba_Tecnica_MeLi/Prueba_tecnica_Ciencia_de_Datos/diabetes+130-us+hospitals+for+years+1999-2008/TEST_PRED.ipynb Celda 3\u001b[0m line \u001b[0;36m3\n\u001b[1;32m      <a href='vscode-notebook-cell:/Users/anestrada/Documents/Estudio/Prueba_Tecnica_MeLi/Prueba_tecnica_Ciencia_de_Datos/diabetes%2B130-us%2Bhospitals%2Bfor%2Byears%2B1999-2008/TEST_PRED.ipynb#W4sZmlsZQ%3D%3D?line=0'>1</a>\u001b[0m data_processor \u001b[39m=\u001b[39m DiabetesDataProcessor(sample_data)\n\u001b[1;32m      <a href='vscode-notebook-cell:/Users/anestrada/Documents/Estudio/Prueba_Tecnica_MeLi/Prueba_tecnica_Ciencia_de_Datos/diabetes%2B130-us%2Bhospitals%2Bfor%2Byears%2B1999-2008/TEST_PRED.ipynb#W4sZmlsZQ%3D%3D?line=1'>2</a>\u001b[0m inference_engine \u001b[39m=\u001b[39m DiabetesInference(xgboost_model, data_processor)\n\u001b[0;32m----> <a href='vscode-notebook-cell:/Users/anestrada/Documents/Estudio/Prueba_Tecnica_MeLi/Prueba_tecnica_Ciencia_de_Datos/diabetes%2B130-us%2Bhospitals%2Bfor%2Byears%2B1999-2008/TEST_PRED.ipynb#W4sZmlsZQ%3D%3D?line=2'>3</a>\u001b[0m inference_engine\u001b[39m.\u001b[39;49mpredict(sample_data)\n",
      "\u001b[0;31mTypeError\u001b[0m: predict() takes 1 positional argument but 2 were given"
     ]
    }
   ],
   "source": [
    "data_processor = DiabetesDataProcessor(sample_data)\n",
    "inference_engine = DiabetesInference(xgboost_model, data_processor)\n",
    "inference_engine.predict(sample_data)"
   ]
  },
  {
   "cell_type": "code",
   "execution_count": null,
   "metadata": {},
   "outputs": [],
   "source": []
  }
 ],
 "metadata": {
  "kernelspec": {
   "display_name": "Prueba_tecnica_MeLi_2023",
   "language": "python",
   "name": "python3"
  },
  "language_info": {
   "codemirror_mode": {
    "name": "ipython",
    "version": 3
   },
   "file_extension": ".py",
   "mimetype": "text/x-python",
   "name": "python",
   "nbconvert_exporter": "python",
   "pygments_lexer": "ipython3",
   "version": "3.8.18"
  },
  "orig_nbformat": 4
 },
 "nbformat": 4,
 "nbformat_minor": 2
}
